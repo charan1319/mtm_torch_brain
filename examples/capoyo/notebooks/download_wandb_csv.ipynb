{
 "cells": [
  {
   "cell_type": "code",
   "execution_count": 6,
   "metadata": {},
   "outputs": [],
   "source": [
    "import wandb\n",
    "import pandas as pd\n",
    "\n",
    "api = wandb.Api()\n",
    "run = api.run(\"neuro-galaxy/openscope_calcium/gt0oyuk9\")\n"
   ]
  },
  {
   "cell_type": "code",
   "execution_count": 7,
   "metadata": {},
   "outputs": [],
   "source": [
    "all_sessions = [\n",
    "        \"758519303\",\"759189643\",\"759660390\",\"759666166\",\"759872185\",\n",
    "        \"760269100\",\"761730740\",\"762415169\",\"763646681\",\"761624763\", \n",
    "        \"761944562\",\"762250376\",\"760260459\",\"760659782\",\"761269197\", \n",
    "        \"763949859\",\"764897534\",\"765427689\",\"766755831\",\"767254594\",\n",
    "        \"768807532\",\"764704289\",\"765193831\",\"766502238\",\"777496949\", \n",
    "        \"778374308\",\"779152062\",\"777914830\",\"778864809\",\"779650018\",\n",
    "        \"826187862\",\"826773996\",\"827833392\",\"826338612\",\"826819032\", \n",
    "        \"828816509\",\"829283315\",\"823453391\",\"824434038\",\"825180479\", \n",
    "        \"826659257\",\"827300090\",\"828475005\",\"829520904\",\"832883243\", \n",
    "        \"833704570\",\"834403597\",\"836968429\",\"837360280\",\"838633305\" \n",
    "        ]\n",
    "dend_sessions = ['759666166', '759872185', '760269100', '761730740', \n",
    "                 '762415169', '763646681', '763949859', '764897534', \n",
    "                 '765427689', '766755831', '767254594', '768807532', \n",
    "                 '764704289', '765193831', '766502238', '777914830', \n",
    "                 '778864809', '779650018', '826187862', '826773996', \n",
    "                 '827833392', '826338612', '826819032', '828816509', \n",
    "                 '829283315', '823453391', '824434038', '825180479']\n",
    "\n",
    "soma_sessions = ['758519303', '759189643', '759660390', '761624763', \n",
    "                 '761944562', '762250376', '760260459', '760659782', \n",
    "                 '761269197', '777496949', '778374308', '779152062', \n",
    "                 '826659257', '827300090', '828475005', '829520904', \n",
    "                 '832883243', '833704570', '834403597', '836968429', \n",
    "                 '837360280', '838633305']\n",
    "\n",
    "L23_sessions = ['758519303', '759189643', '759660390', '761624763', \n",
    "                '761944562', '762250376', '763949859', '764897534', \n",
    "                '765427689', '766755831', '767254594', '768807532', \n",
    "                '764704289', '765193831', '766502238', '826187862', \n",
    "                '826773996', '827833392', '832883243', '833704570', \n",
    "                '834403597', '836968429', '837360280', '838633305']\n",
    "\n",
    "L5_sessions = ['759666166', '759872185', '760269100', '761730740', \n",
    "               '762415169', '763646681', '760260459', '760659782', \n",
    "               '761269197', '777496949', '778374308', '779152062', \n",
    "               '777914830', '778864809', '779650018', '826338612', \n",
    "               '826819032', '828816509', '829283315', '823453391', \n",
    "               '824434038', '825180479', '826659257', '827300090', \n",
    "               '828475005', '829520904']\n",
    "\n",
    "\n",
    "#val_col_names = [\"epoch\", \"train_loss\"]\n"
   ]
  },
  {
   "cell_type": "code",
   "execution_count": 8,
   "metadata": {},
   "outputs": [],
   "source": [
    "def get_cols(all_sessions):    \n",
    "    val_col_names = []\n",
    "\n",
    "    for sess in all_sessions:\n",
    "        curr_name = \"val/session_{}_accuracy_gabor_orientation\".format(sess)\n",
    "        val_col_names.append(curr_name)\n",
    "\n",
    "    return val_col_names"
   ]
  },
  {
   "cell_type": "code",
   "execution_count": 9,
   "metadata": {},
   "outputs": [],
   "source": [
    "val_col_names = get_cols(all_sessions)\n",
    "# Convert the history to a Pandas DataFrame\n",
    "history_df = run.history(keys=val_col_names, x_axis=\"epoch\", pandas=True)\n",
    "\n",
    "# Save the DataFrame as a CSV file\n",
    "history_df.to_csv('/home/mila/x/xuejing.pan/POYO/results/cross_sess/val/roi_embed_vals_cont.csv', index=False)"
   ]
  },
  {
   "cell_type": "code",
   "execution_count": 10,
   "metadata": {},
   "outputs": [
    {
     "name": "stdout",
     "output_type": "stream",
     "text": [
      "50\n"
     ]
    }
   ],
   "source": [
    "print(len(val_col_names))"
   ]
  },
  {
   "cell_type": "markdown",
   "metadata": {},
   "source": [
    "history_df.columns"
   ]
  },
  {
   "cell_type": "code",
   "execution_count": 5,
   "metadata": {},
   "outputs": [
    {
     "data": {
      "text/plain": [
       "(0,)"
      ]
     },
     "execution_count": 5,
     "metadata": {},
     "output_type": "execute_result"
    }
   ],
   "source": [
    "history_df.columns.shape\n"
   ]
  },
  {
   "cell_type": "code",
   "execution_count": null,
   "metadata": {},
   "outputs": [],
   "source": []
  }
 ],
 "metadata": {
  "kernelspec": {
   "display_name": "test_newenv",
   "language": "python",
   "name": "python3"
  },
  "language_info": {
   "codemirror_mode": {
    "name": "ipython",
    "version": 3
   },
   "file_extension": ".py",
   "mimetype": "text/x-python",
   "name": "python",
   "nbconvert_exporter": "python",
   "pygments_lexer": "ipython3",
   "version": "3.9.6"
  },
  "orig_nbformat": 4
 },
 "nbformat": 4,
 "nbformat_minor": 2
}
